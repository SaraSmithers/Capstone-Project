{
 "cells": [
  {
   "cell_type": "markdown",
   "id": "a2c79517-6031-4a27-8da8-930f019bc9f0",
   "metadata": {},
   "source": [
    "# Grants.gov XML extract, filtered and pushed to MongoDB\n",
    " By. Angie Marchany-Rivera & Sara Smithers  \n",
    " August 13<sup>th</sup>, 2022  \n",
    " Updated September 13<sup>th</sup>, 2022"
   ]
  },
  {
   "cell_type": "markdown",
   "id": "7dccd8a3-5341-425a-9ac1-0669a55182c5",
   "metadata": {},
   "source": [
    "The goal of the this project to provide a tool that allows users to search for environmental remediation grants funded by the Bipartisan Infrastructure Law. This project was completed as part of the Opportunity Project led by the US Census Bureau, The White House OSTP, and the US Department of Commerce. The following code extracts, cleans and filters available grant data from the Grants.gov website. The intial data can then be uploaded MongoDB, with additional code that can be run daily to check for new grants and updates to grants."
   ]
  },
  {
   "cell_type": "markdown",
   "id": "86a1e66f-f3bc-4438-b767-7f8a1e980056",
   "metadata": {},
   "source": [
    "### Extracting the Data from the Grants.gov XML extract"
   ]
  },
  {
   "cell_type": "code",
   "execution_count": null,
   "id": "189165af-f994-401d-b7a4-1bcb98ed8acf",
   "metadata": {},
   "outputs": [],
   "source": [
    "#pip install xmltodict\n",
    "#pip install pymongo\n",
    "#pip install pymongo[srv]"
   ]
  },
  {
   "cell_type": "code",
   "execution_count": 1,
   "id": "dbe04d8e-d5c6-4886-9d7e-7b4508a4ce7b",
   "metadata": {
    "tags": []
   },
   "outputs": [],
   "source": [
    "# https://openbase.com/python/xmltodict\n",
    "\n",
    "from io import BytesIO\n",
    "from zipfile import ZipFile\n",
    "from urllib.request import urlopen\n",
    "import xmltodict\n",
    "import os\n",
    "import pymongo\n",
    "from pymongo import MongoClient\n",
    "from pymongo.server_api import ServerApi\n",
    "import sys\n",
    "import pandas as pd\n",
    "import numpy as np\n",
    "import shutil"
   ]
  },
  {
   "cell_type": "code",
   "execution_count": 2,
   "id": "4ab0365d-01ab-41d4-9e03-743a76e4ba41",
   "metadata": {},
   "outputs": [
    {
     "name": "stdout",
     "output_type": "stream",
     "text": [
      "3.9.12 (main, Apr  4 2022, 05:22:27) [MSC v.1916 64 bit (AMD64)]\n"
     ]
    }
   ],
   "source": [
    "print (sys.version)"
   ]
  },
  {
   "cell_type": "markdown",
   "id": "cbfc7423-b2e4-4989-b5c5-f164efb8a5e5",
   "metadata": {},
   "source": [
    "The Grants.gov database of grants is exported to an XML file everyday. The XML file is compressed into a zip file that is named 'GrantsDBExtractYYYYMMDD.zip' with the updated date of the extract. The following URL format can be used to download the data. More information about the XML extract can be found here: https://www.grants.gov/help/html/help/index.htm?rhcsh=1&callingApp=custom#t=XMLExtract%2FXMLExtract.htm\n",
    "\n",
    "To extract the data from the XML file, first use Timestamp function to insert today's date into the the zip file URL. You will need to make a temporary directory where the zip file can be saved and opened so that the XML file can be read. From there, the XML data will need to be parsed into a dictionary. The grant data can then be extracted as a list of dictionaries, where each dictionary contains the data for one grant. The list of dictionaries can be converted to a Pandas dataframe to be cleaned. Our cleaning steps included updating object datatypes to numeric and datetime types. We aso found errors in ArchiveDate, where the years were listed as 7009 and 3010. We assumed this was due to human error and corrected the years to 2009 and 2010."
   ]
  },
  {
   "cell_type": "code",
   "execution_count": 3,
   "id": "a82a330a-452e-404a-a39d-da8788619234",
   "metadata": {},
   "outputs": [],
   "source": [
    "# Direct link to updated XML extract. \n",
    "# Example link --> https://www.grants.gov/extract/GrantsDBExtract20220813v2.zip\n",
    "\n",
    "today = pd.Timestamp('today')\n",
    "link = \"https://www.grants.gov/extract/GrantsDBExtract{:%Y%m%d}v2.zip\".format(today)"
   ]
  },
  {
   "cell_type": "code",
   "execution_count": 4,
   "id": "965675af-2b9b-4db2-a2fe-68c7b8db2b1d",
   "metadata": {
    "tags": []
   },
   "outputs": [],
   "source": [
    "# Extract most up-to-date XML from grants.gov zip file.\n",
    "# SLOW STEP - It collects the new XML file in the temp folder.\n",
    "\n",
    "# Make a temporary directory inside local host working directory.\n",
    "os.makedirs('tempDir', exist_ok = True)\n",
    "\n",
    "# Open the link to the grants.gov xml extract zip file.\n",
    "url = urlopen(link)\n",
    "\n",
    "# Read the zipfile.\n",
    "zipfile = ZipFile(BytesIO(url.read()))\n",
    "\n",
    "# Save zipfile to temporary directory.\n",
    "zipfile.extractall('tempDir/temp')\n",
    "\n",
    "# Save the file name as a string.\n",
    "filename = os.listdir('tempDir/temp')\n",
    "\n",
    "# Read the xml file and save it to xml_data.\n",
    "with open(os.path.join('tempDir/temp', filename[0]), 'r', encoding = 'utf-8') as f:\n",
    "    xml_data = f.read()\n",
    "\n",
    "# Delete the temporary directory from local host working directory.\n",
    "shutil.rmtree(f'{os.getcwd()}\\\\tempDir')"
   ]
  },
  {
   "cell_type": "code",
   "execution_count": 5,
   "id": "af4c6cf6-e381-45c7-8623-3a03566dc137",
   "metadata": {},
   "outputs": [],
   "source": [
    "# Parse the xml data into a dictionary dtype.\n",
    "\n",
    "xml_dict = xmltodict.parse(xml_data, encoding = 'utf-8')"
   ]
  },
  {
   "cell_type": "code",
   "execution_count": 6,
   "id": "6a3026eb-aa0b-40b5-9514-6d3ddcef9984",
   "metadata": {
    "tags": []
   },
   "outputs": [],
   "source": [
    "# Extract the data from the dictionary. It comes as a list of dictionaries where each dictionary\n",
    "# stores the data of one grant on grants.gov.\n",
    "\n",
    "data_list_dict = xml_dict['Grants']['OpportunitySynopsisDetail_1_0']"
   ]
  },
  {
   "cell_type": "code",
   "execution_count": 7,
   "id": "a86cbb48-3d5d-49e5-8ac8-8936ba5e6e7f",
   "metadata": {
    "tags": []
   },
   "outputs": [],
   "source": [
    "# Convert the list of dictionaries into a pandas dataframe to perform cleaning.\n",
    "\n",
    "xml_df = pd.DataFrame(data_list_dict)"
   ]
  },
  {
   "cell_type": "code",
   "execution_count": 8,
   "id": "486ffb55-064b-4dc4-8c57-73339b9f6ed8",
   "metadata": {},
   "outputs": [],
   "source": [
    "# Update data types. Numbers = \"pd.to_numeric\" & dates = \"pd.to_datetime\":\n",
    "\n",
    "xml_df['OpportunityID'] = pd.to_numeric(xml_df['OpportunityID'], errors='coerce')\n",
    "xml_df['AwardCeiling'] = pd.to_numeric(xml_df['AwardCeiling'], errors='coerce')\n",
    "xml_df['AwardFloor'] = pd.to_numeric(xml_df['AwardFloor'], errors='coerce')\n",
    "xml_df['EstimatedTotalProgramFunding'] = pd.to_numeric(xml_df['EstimatedTotalProgramFunding'], errors='coerce')\n",
    "xml_df['ExpectedNumberOfAwards'] = pd.to_numeric(xml_df['ExpectedNumberOfAwards'], errors='coerce')\n",
    "xml_df['PostDate'] = pd.to_datetime(xml_df['PostDate'], format='%m%d%Y', errors='ignore')\n",
    "xml_df['CloseDate'] = pd.to_datetime(xml_df['CloseDate'], format='%m%d%Y', errors='ignore')\n",
    "xml_df['LastUpdatedDate'] = pd.to_datetime(xml_df['LastUpdatedDate'], format='%m%d%Y', errors='ignore')\n"
   ]
  },
  {
   "cell_type": "code",
   "execution_count": 9,
   "id": "e02126e9-502a-43a2-9863-fc53d8acc5d1",
   "metadata": {},
   "outputs": [],
   "source": [
    "# Found errors on Archive Date - possible cause: human-entered.\n",
    "\n",
    "xml_df.loc[xml_df['ArchiveDate']=='08157009','ArchiveDate'] = '08152009'\n",
    "xml_df.loc[xml_df['ArchiveDate']=='03023010','ArchiveDate'] = '03022010'"
   ]
  },
  {
   "cell_type": "code",
   "execution_count": 10,
   "id": "ed1c2685-89c1-47aa-9444-3138b9ab6065",
   "metadata": {},
   "outputs": [],
   "source": [
    "# Update data type for Archive Date after correcting typos:\n",
    "\n",
    "xml_df['ArchiveDate'] = pd.to_datetime(xml_df['ArchiveDate'], format='%m%d%Y')"
   ]
  },
  {
   "cell_type": "code",
   "execution_count": null,
   "id": "d2774eed-9fb2-4a21-9e53-0d2f2e1d58b2",
   "metadata": {},
   "outputs": [],
   "source": [
    "# RUN this code if you want to download the xml_df into a csv file.\n",
    "\n",
    "# Replace pd.NaT on datetime columns to np.nan for Tableau.\n",
    "\n",
    "# xml_df['PostDate'].replace({pd.NaT: np.nan}, inplace = True)\n",
    "# xml_df['CloseDate'].replace({pd.NaT: np.nan}, inplace = True)\n",
    "# xml_df['LastUpdatedDate'].replace({pd.NaT: np.nan}, inplace = True)\n",
    "# xml_df['ArchiveDate'].replace({pd.NaT: np.nan}, inplace = True)\n",
    "\n",
    "# Create CSV for exploratory analysis on Tableau Desktop.\n",
    "\n",
    "# xml_df[xml_df['ArchiveDate'].dt.year >= 2022].to_csv('grants_active.csv', index = False)"
   ]
  },
  {
   "cell_type": "markdown",
   "id": "bbf1afa9-b985-400e-bc19-7a7d426fb994",
   "metadata": {
    "tags": []
   },
   "source": [
    "### Filtering the data to extract grants and cooperative agreements for environmental remediation in the USA"
   ]
  },
  {
   "cell_type": "markdown",
   "id": "162be739-6136-4c17-bdcb-eeff01ae7f48",
   "metadata": {},
   "source": [
    "Now that the grants.gov extract is in a clean dataframe, it can be filtered to BIL Programs. The dataframe can be first filtered by the ArchiveDate to remove any grants/cooperative agreements that have been archived prior to the current year.\n",
    "\n",
    "There are 8 environmental remediation programs to be funded by the Bipartisan Infrastructure Law (BIL). Three agencies are responsible for funding these programs, the Department of the Interior, the Environmental Protection Agency (EPA), and the Department of Energy (DOE). \n",
    "\n",
    "The CFDA number is used to determine the parent_agency_number. The CFDA Number is a unique number assigned to grants/cooperative agreements (XX.XXX). The first number (XX) is the parent agency number, and the second number (XXX) is the program number. A parent_agency_number was extracted from the first part of the CFDA Number (XX) and added to the filtered dataframe. We were then able to filter by the 3 parent agencies that fund the BIL programs.\n",
    "\n",
    "We created a new dataframe from a dictionary of these parent agencies, which we joined to the filtered dataframe on the parent_agency_number. From there added a new column called 'BIL_ERG_funds', identifying whether the grant is funded by one of the BIL Enviornmental Remediation Programs."
   ]
  },
  {
   "cell_type": "code",
   "execution_count": 11,
   "id": "d56ba37e-978a-4fda-abe2-ccddb0d2ef39",
   "metadata": {
    "tags": []
   },
   "outputs": [],
   "source": [
    "# Filter by 'ArchiveDate' >= current date \n",
    "# This will reduce the number of rows since all archived grants will be ignored.\n",
    "\n",
    "current_date = pd.Timestamp('today')\n",
    "xml_new_df = xml_df[xml_df['ArchiveDate'] >= current_date]"
   ]
  },
  {
   "cell_type": "code",
   "execution_count": 12,
   "id": "3791c1b9-1a13-4762-b310-b393d574503b",
   "metadata": {},
   "outputs": [
    {
     "name": "stderr",
     "output_type": "stream",
     "text": [
      "C:\\Users\\smith\\AppData\\Local\\Temp\\ipykernel_12532\\3405912243.py:3: SettingWithCopyWarning: \n",
      "A value is trying to be set on a copy of a slice from a DataFrame.\n",
      "Try using .loc[row_indexer,col_indexer] = value instead\n",
      "\n",
      "See the caveats in the documentation: https://pandas.pydata.org/pandas-docs/stable/user_guide/indexing.html#returning-a-view-versus-a-copy\n",
      "  xml_new_df['parent_agency_number'] = xml_new_df['CFDANumbers'].astype(str).str.split('.').str[0]\n"
     ]
    }
   ],
   "source": [
    "# Add new column with Parent Agency number extracted from CFDA number\n",
    "\n",
    "xml_new_df['parent_agency_number'] = xml_new_df['CFDANumbers'].astype(str).str.split('.').str[0]"
   ]
  },
  {
   "cell_type": "code",
   "execution_count": 13,
   "id": "a7328582-c7e8-4c62-8a65-39a189d3b11a",
   "metadata": {},
   "outputs": [],
   "source": [
    "# Filter data to grants only funded by the 3 agencies that fund BIL programs\n",
    "\n",
    "BIL_agencies = ['15', '66', '81']\n",
    "\n",
    "BIL_df = xml_new_df[xml_new_df['parent_agency_number'].isin(BIL_agencies)]"
   ]
  },
  {
   "cell_type": "code",
   "execution_count": 14,
   "id": "8c9483ef-9db5-4a57-99e7-12f851174d5a",
   "metadata": {},
   "outputs": [],
   "source": [
    "# Create the dictionary, `ENV_Agencies_dict`, using the fromkeys() method.\n",
    "col_headers = ('parent_agency_number','parent_agency_name')\n",
    "BIL_Agencies_dict = dict.fromkeys(col_headers)\n",
    "\n",
    "# Fill in the parent_agency_number and parent_agency_name\n",
    "BIL_Agencies_dict['parent_agency_number'] = ['15','66','81']\n",
    "BIL_Agencies_dict['parent_agency_name'] = ['Department of Interior','Environmental Protection Agency','Department of Energy']\n",
    "\n",
    "#Create a pandas dataframe with the dictionary to be able to merge it with the ENV_df.\n",
    "BIL_Agencies_df = pd.DataFrame.from_dict(BIL_Agencies_dict, dtype = object)"
   ]
  },
  {
   "cell_type": "code",
   "execution_count": 15,
   "id": "539fc45c-6485-459b-a9f2-c89da7ff6cc4",
   "metadata": {},
   "outputs": [],
   "source": [
    "# join dataframe with parent agency name csv to include the parent agency name\n",
    "\n",
    "filtered_df = pd.merge(BIL_df, BIL_Agencies_df, on = 'parent_agency_number')"
   ]
  },
  {
   "cell_type": "code",
   "execution_count": 16,
   "id": "b25db911-d4d0-4cf7-8d33-d3ee16188054",
   "metadata": {
    "tags": []
   },
   "outputs": [],
   "source": [
    "# CFDA Numbers for BIL ER Programs from Build.gov with links to Sam.gov: \n",
    "# Abandoned Mine Reclamation Fund- 15.252\n",
    "# Brownfields Projects- 66.818\n",
    "# Brownfields State & Tribal Response Porgrams- 66.817\n",
    "# Clean Energy Demonstrations on Current and Former Mine Land & Funding to Support Orphan Well Plugging- 81.089 \n",
    "# Superfund- 66.802 \n",
    "# Orphaned Well Site Plugging, Remediation, and Restoration- 15.018\n",
    "# Direct Federal Spending for Revegetation of Mined Lands- No link to sam.gov, no CFDA number listed\n",
    "# New columns include 'BIL_ERG_funds', identifying whether the grant is funded by one of the 7 BIL ER Grants.\n",
    "\n",
    "BILPrograms = ['15.252', '66.818', '66.817', '81.089', '66.802', '15.018']\n",
    "\n",
    "filtered_df['BIL_ERG_funds'] = np.where(filtered_df['CFDANumbers'].isin(BILPrograms), 1, 0)"
   ]
  },
  {
   "cell_type": "code",
   "execution_count": 17,
   "id": "e12f7e51-5869-4e20-b801-a66298683275",
   "metadata": {
    "tags": []
   },
   "outputs": [],
   "source": [
    "# There seemed to be an issue with parsing the xml dict that resulted in unwanted characters \n",
    "# We were not able to correct the issue by specifying the encoding as utf-8, so we manually corrected the errors that we found\n",
    "\n",
    "filtered_df.replace('&#8220;', '\"', regex = True, inplace = True)\n",
    "filtered_df.replace('&#8221;', '\"', regex = True, inplace = True)\n",
    "filtered_df.replace('&quot;', '\"', regex = True, inplace = True)\n",
    "filtered_df.replace('&#8217;', \"'\", regex = True, inplace = True)\n",
    "filtered_df.replace('&apos;', \"'\", regex = True, inplace = True)\n",
    "filtered_df.replace('&#8211;', '-', regex = True, inplace = True)\n",
    "filtered_df.replace('&#8212;','-', regex = True, inplace = True)\n",
    "filtered_df.replace('&#8208;','-', regex = True, inplace = True)\n",
    "filtered_df.replace('&amp;','&', regex = True, inplace = True)\n",
    "filtered_df.replace('&lt;', ' ' , regex = True, inplace = True)\n",
    "filtered_df.replace('&#167;', '; ' , regex = True, inplace = True)\n",
    "filtered_df.replace('br/&gt;', ', ' , regex = True, inplace = True)\n",
    "filtered_df.replace('&#226;', ' ' , regex = True, inplace = True)\n",
    "filtered_df.replace('&#191;', '' , regex = True, inplace = True)\n",
    "filtered_df.replace('&#160;', ' ' , regex = True, inplace = True)"
   ]
  },
  {
   "cell_type": "code",
   "execution_count": 18,
   "id": "d1ff1866-4526-468f-ba4c-fb4149400c7d",
   "metadata": {
    "tags": []
   },
   "outputs": [],
   "source": [
    "# Replace pd.NaT on datetime columns to 'None' because pd.NaT is not accepted in MongoDB.\n",
    "\n",
    "filtered_df['PostDate'].replace({pd.NaT: None}, inplace = True)\n",
    "filtered_df['CloseDate'].replace({pd.NaT: None}, inplace = True)\n",
    "filtered_df['LastUpdatedDate'].replace({pd.NaT: None}, inplace = True)\n",
    "filtered_df['ArchiveDate'].replace({pd.NaT: None}, inplace = True)"
   ]
  },
  {
   "cell_type": "code",
   "execution_count": 19,
   "id": "02dbbb31-42aa-434d-9595-e9e2f4f9e9c5",
   "metadata": {},
   "outputs": [],
   "source": [
    "# Because the funding announcement that this column is referencing will not be found own our site, \n",
    "# we replaced the text \"See Section III\" with \"please click on the link and go to related documents\" to direct users back to grant.gov to see the attached funding announcements  \n",
    "\n",
    "filtered_df['AdditionalInformationOnEligibility'] = filtered_df.AdditionalInformationOnEligibility.str.replace(r'(^.*See Section III.*$)', 'Please click on the link and go to related documents for more information.', regex=True)"
   ]
  },
  {
   "cell_type": "code",
   "execution_count": 20,
   "id": "f53f25fe-46ff-4e50-ace6-dbad6f7c13bf",
   "metadata": {},
   "outputs": [],
   "source": [
    "# Many of the BLM grants listed are for specific states and are indicated in the grant's Opportunity Title\n",
    "# To reduce the number of grants in our database that are not relevant to Michigan applicants, we filtered out several of the common states listed \n",
    "\n",
    "filtered_df = filtered_df[~filtered_df.OpportunityTitle.str.contains('|'.join(['AK', 'Alaska', 'AZ', 'Arizona','NM', 'New Mexico', 'HI', 'Hawaii', 'OR', 'Oregon', 'CO', 'Colorado', 'FL', 'Florida']))]"
   ]
  },
  {
   "cell_type": "code",
   "execution_count": 21,
   "id": "2219d7c0-930c-410a-b8cd-3eb896a065ff",
   "metadata": {},
   "outputs": [],
   "source": [
    "# Export data to CSV\n",
    "\n",
    "#filtered_df.to_csv('filtered_grants.csv', index = False)"
   ]
  },
  {
   "cell_type": "code",
   "execution_count": null,
   "id": "45831f91-8e8a-44fb-b394-a68ee5901cc2",
   "metadata": {
    "tags": []
   },
   "outputs": [],
   "source": [
    "# Create updated dictionary using the 'records’ format : list like [{column -> value}, … , {column -> value}]\n",
    "\n",
    "updated_dict = filtered_df.to_dict('records')"
   ]
  },
  {
   "cell_type": "markdown",
   "id": "f035d5f6-2e07-4994-b481-3ae156c1c876",
   "metadata": {},
   "source": [
    "### Uploading the updated/filtered grants.gov data into MongoDB"
   ]
  },
  {
   "cell_type": "code",
   "execution_count": null,
   "id": "b4141c45-fb3d-405a-9026-4329fb5aec9d",
   "metadata": {},
   "outputs": [],
   "source": [
    "# connect to MongoDB - change the << MONGODB URL >> to reflect your own connection string\n",
    "\n",
    "client = pymongo.MongoClient(\"mongodb+srv://<<username>>:<<password>>@cluster0.mktistr.mongodb.net/?retryWrites=true&w=majority\", server_api=ServerApi('1'))\n",
    "db = client.admin"
   ]
  },
  {
   "cell_type": "code",
   "execution_count": null,
   "id": "0e4f28ff-3945-4d4b-b723-27ef09291b1a",
   "metadata": {
    "scrolled": true,
    "tags": []
   },
   "outputs": [],
   "source": [
    "# Check the server status:\n",
    "\n",
    "serverStatusResult=db.command(\"serverStatus\")\n",
    "print(serverStatusResult)"
   ]
  },
  {
   "cell_type": "code",
   "execution_count": null,
   "id": "a02206a5-720b-4c1d-9140-25b87cc558ac",
   "metadata": {
    "tags": []
   },
   "outputs": [],
   "source": [
    "# Connect to the grantaccess database in MongoDB\n",
    "\n",
    "#db = client.grantaccess\n",
    "db = client.grantaccess"
   ]
  },
  {
   "cell_type": "code",
   "execution_count": null,
   "id": "857d5155-5263-4f14-ae45-5b0f7fb273df",
   "metadata": {},
   "outputs": [],
   "source": [
    "# Connect to the \"Grants\" collection (a.k.a - table)\n",
    "\n",
    "collection = db[\"Grants\"]"
   ]
  },
  {
   "cell_type": "markdown",
   "id": "61765100-9c87-496f-b2a7-49908f36d745",
   "metadata": {},
   "source": [
    "#### Initial Push"
   ]
  },
  {
   "cell_type": "code",
   "execution_count": null,
   "id": "f1c5f4ef-5093-4e5b-bc2f-af49cb891ad5",
   "metadata": {
    "tags": []
   },
   "outputs": [],
   "source": [
    "#Insert a list of dictionaries instead of a pandas df --> https://stackoverflow.com/questions/49221550/pandas-insert-a-dataframe-to-mongodb\n",
    "# Slow process - should consider updating filter to specific grants instead of uploading all of it.\n",
    "\n",
    "#for i in range(1,len(updated_dict)):\n",
    "    #collection.insert_one(updated_dict[i])"
   ]
  },
  {
   "cell_type": "markdown",
   "id": "9977fe54-65e0-49ab-88d0-a742d8bdabcc",
   "metadata": {},
   "source": [
    "#### Database Update"
   ]
  },
  {
   "cell_type": "markdown",
   "id": "092e54dd-9664-4460-ba0e-9636a94b9767",
   "metadata": {},
   "source": [
    "#### Seudo-code:\n",
    "Call the data in MongoDB (previous version of the database) - comes as a list of dictionaries  \n",
    "Compare to the new version of XML extract  \n",
    " \n",
    "If 'OpportunityID' is not in database then add the new row of data to database  \n",
    "If 'OpportunityID' is in database and have an updated 'LastUpdatedDate' then update row in database  \n",
    "Else do nothing\n",
    "\n",
    "new grants identified - collection.insert_one(); updated grants - collection.update_one()"
   ]
  },
  {
   "cell_type": "code",
   "execution_count": null,
   "id": "22a3a8c6-906f-41b6-b251-5f84295fff4d",
   "metadata": {
    "tags": []
   },
   "outputs": [],
   "source": [
    "# Bring each document (row of data) stored in MongoDB into python as a dictionary dtype\n",
    "\n",
    "old_data_list = []\n",
    "for old_data in collection.find({}):\n",
    "    old_data_list.append(old_data)"
   ]
  },
  {
   "cell_type": "code",
   "execution_count": null,
   "id": "4b96cba5-19fd-4482-90bd-d546d7ee6f24",
   "metadata": {
    "tags": []
   },
   "outputs": [],
   "source": [
    "# Creates a dataframe from the list of dictionaries\n",
    "\n",
    "old_data_df = pd.DataFrame(old_data_list)"
   ]
  },
  {
   "cell_type": "code",
   "execution_count": null,
   "id": "56551059-55c7-41b9-9646-cd758a8d9d6c",
   "metadata": {
    "tags": []
   },
   "outputs": [],
   "source": [
    "old_data_df.info()"
   ]
  },
  {
   "cell_type": "code",
   "execution_count": null,
   "id": "cb3e8f2c-b2b4-4d36-8023-24c0b19b3aee",
   "metadata": {
    "tags": []
   },
   "outputs": [],
   "source": [
    "# Identify new grants and select only the new grants\n",
    "new_grants_df = filtered_df[~filtered_df['OpportunityID'].isin(old_data_df['OpportunityID'])]\n",
    "\n",
    "# Create a list of dictionaries, each dictionary is one record\n",
    "new_grants_dict = new_grants_df.to_dict('records')\n",
    "\n",
    "# Upload each new record to MongoDB\n",
    "for new_record in new_grants_dict:\n",
    "    collection.insert_one(new_record)\n"
   ]
  },
  {
   "cell_type": "code",
   "execution_count": null,
   "id": "209c0ba2-e68f-4d4b-94d8-8e1cb0e2e4ae",
   "metadata": {},
   "outputs": [],
   "source": [
    "# Use updated_grants_dict to update the MongoDB database\n",
    "\n",
    "updated_grants_df = filtered_df[filtered_df['LastUpdatedDate'].isin(old_data_df['LastUpdatedDate'])== False]\n",
    "\n",
    "# Create a list of dictionaries, each dictionary is one record\n",
    "updated_grants_dict = updated_grants_df.to_dict('records')\n",
    "\n",
    "# Replace each updated record to MongoDB\n",
    "for record in updated_grants_dict:\n",
    "    record_to_update_dict = [match for match in old_data_list if match['OpportunityID'] == record['OpportunityID']][0]\n",
    "    collection.update_one({'_id':record_to_update_dict['_id']}, {'$set': record}, upsert = False) "
   ]
  },
  {
   "cell_type": "markdown",
   "id": "97c45e3a-6608-4ba0-b02a-411eb51a7101",
   "metadata": {},
   "source": [
    "References:\n",
    "\n",
    "https://www.grants.gov/help/html/help/index.htm#t=Grantors%2FCreateGrantOpportunities.htm  \n",
    "https://grantsgovprod.wordpress.com/2019/06/05/distinguishing-among-different-types-of-federal-awards-including-block-grants-cooperative-agreements-more/"
   ]
  }
 ],
 "metadata": {
  "kernelspec": {
   "display_name": "Python 3 (ipykernel)",
   "language": "python",
   "name": "python3"
  },
  "language_info": {
   "codemirror_mode": {
    "name": "ipython",
    "version": 3
   },
   "file_extension": ".py",
   "mimetype": "text/x-python",
   "name": "python",
   "nbconvert_exporter": "python",
   "pygments_lexer": "ipython3",
   "version": "3.9.12"
  }
 },
 "nbformat": 4,
 "nbformat_minor": 5
}
